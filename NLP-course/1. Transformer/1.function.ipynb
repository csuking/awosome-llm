{
 "cells": [
  {
   "cell_type": "markdown",
   "metadata": {},
   "source": [
    "# 1.本节介绍Transform在自然语言处理任务中的作用\n",
    "transformer库功能强大，用户可以使用Hugging Face模型中心的模型，也可以分享他们自己训练的模型到Hub上"
   ]
  },
  {
   "cell_type": "markdown",
   "metadata": {},
   "source": [
    "### 使用pipelines（）\n",
    "pipeline是流水线的意思，在transformer库中将模型训练等一系列步骤串起来，方便用户通过调用api接口。\n",
    "我们先看一个简单的示例，使用pipeline函数进行\"sentiment-analysis\"情感分类"
   ]
  },
  {
   "cell_type": "code",
   "execution_count": null,
   "metadata": {},
   "outputs": [],
   "source": [
    "!pip install transformers\n",
    "from transformers import pipeline\n",
    "\n",
    "classifier = pipeline(\"sentiment-analysis\")\n",
    "classifier(\"I met my crush today, and I became secretly happy.\")"
   ]
  },
  {
   "cell_type": "markdown",
   "metadata": {},
   "source": [
    "我们没有指定使用的模型，因此pipeline默认加载“distilbert-base-uncased-finetuned-sst-2-english”模型，这个模型已经针对英语情感进行微调（如果让他识别中文情感会不准确）。\n",
    "当我们运行`classfier(\"xxx\")`,pipeline会执行以下流程：\n",
    "1. 自然语言文本被处理成模型可以理解的格式（tokenize -> embedding）\n",
    "2. 模型接收处理后的文本\n",
    "3. 模型输出结果，并经过后续处理成人类可以理解的格式\n",
    "\n",
    "目前pipeline支持的NLP任务：\n",
    "- eature-extraction （获取文本的向量表示）\n",
    "- fill-mask （完形填空）\n",
    "- ner （命名实体识别）\n",
    "- question-answering （问答）\n",
    "- sentiment-analysis （情感分析）\n",
    "- summarization （提取摘要）\n",
    "- text-generation （文本生成）\n",
    "- translation （翻译）\n",
    "- zero-shot-classification （零样本分类）"
   ]
  },
  {
   "cell_type": "code",
   "execution_count": null,
   "metadata": {},
   "outputs": [],
   "source": [
    "# 1. feature-extraction(获取文本的向量表示)\n",
    "# TODO: 介绍embedding, bert-base-uncased\n",
    "feature_extraction = pipeline(\"feature-extraction\", model=\"bert-base-uncased\")\n",
    "text = \"Hugging Face is creating a tool that democratizes AI.\"\n",
    "features = feature_extraction(text)\n",
    "for f in features:\n",
    "    print(f)"
   ]
  },
  {
   "cell_type": "code",
   "execution_count": null,
   "metadata": {},
   "outputs": [],
   "source": [
    "# 2. fill-mask(完形填空)\n",
    "fill_mask = pipeline(\"fill-mask\", model=\"bert-base-uncased\")\n",
    "\n",
    "# 完形填空就是给出一个句子挖几个空，用[MASK]表示需要模型预测的单词，[MASK]在被分词器tokenizer处理时会被处理成特定的token_id\n",
    "text = \"Hugging Face is creating a [MASK] that democratizes AI.\"\n",
    "results = fill_mask(text)\n",
    "for r in results:\n",
    "    print(f\"{r['sequence']} (score: {r['score']:.4f})\")\n"
   ]
  },
  {
   "cell_type": "code",
   "execution_count": null,
   "metadata": {},
   "outputs": [],
   "source": [
    "# 3. ner（命名实体识别）\n",
    "# 作用：识别文本中的 人名（PER）、地点（LOC）、组织（ORG） 等。\n",
    "ner = pipeline(\"ner\")\n",
    "text = \"Elon Musk is the CEO of Tesla, which is headquartered in Palo Alto.\"\n",
    "\n",
    "# 识别出文本中的实体，然后给出类别和分数\n",
    "entities = ner(text) \n",
    "for entity in entities:\n",
    "    print(entity)\n",
    "    print(f\"{entity['word']} ({entity['entity']}, score: {entity['score']:.4f})\")"
   ]
  },
  {
   "cell_type": "code",
   "execution_count": 20,
   "metadata": {},
   "outputs": [
    {
     "name": "stderr",
     "output_type": "stream",
     "text": [
      "No model was supplied, defaulted to distilbert/distilbert-base-cased-distilled-squad and revision 564e9b5 (https://hf-mirror.com//distilbert/distilbert-base-cased-distilled-squad).\n",
      "Using a pipeline without specifying a model name and revision in production is not recommended.\n",
      "Device set to use cuda:0\n"
     ]
    },
    {
     "name": "stdout",
     "output_type": "stream",
     "text": [
      "Answer: Paris (score: 0.9953)\n"
     ]
    }
   ],
   "source": [
    "# 4. question-answering（问答）\n",
    "# 作用：基于上下文回答问题\n",
    "qa = pipeline(\"question-answering\")\n",
    "context = \"Hugging Face is a company based in Paris, founded in 2016. It focuses on NLP and ML.\"\n",
    "question = \"Where is Hugging Face based?\"\n",
    "\n",
    "answer = qa(question=question, context=context)\n",
    "print(f\"Answer: {answer['answer']} (score: {answer['score']:.4f})\")"
   ]
  },
  {
   "cell_type": "code",
   "execution_count": null,
   "metadata": {},
   "outputs": [],
   "source": [
    "# 5. zero-shot-classification(零样本分类)\n",
    "# 作用：无需训练，直接分类文本\n",
    "\n",
    "zero_shot_classifier = pipeline(\"zero-shot-classification\")\n",
    "\n",
    "text = \"Hugging Face is a company that specializes in NLP and AI.\"\n",
    "candidate_labels = [\"technology\", \"business\", \"sports\"]\n",
    "\n",
    "result = zero_shot_classifier(text, candidate_labels)\n",
    "print(result)"
   ]
  },
  {
   "cell_type": "markdown",
   "metadata": {},
   "source": [
    "\n",
    "**🎯 总结**\n",
    "| 任务 | 作用 | 适用模型 |\n",
    "|------|------|----------|\n",
    "| **feature-extraction** | 获取文本向量表示 | `bert-base-uncased` |\n",
    "| **fill-mask** | 预测被 `[MASK]` 遮挡的单词 | `bert-base-uncased`, `roberta-base` |\n",
    "| **ner** | 命名实体识别（人名、地点、组织等） | `dbmdz/bert-large-cased-finetuned-conll03-english` |\n",
    "| **question-answering** | 根据上下文回答问题 | `distilbert-base-cased-distilled-squad` |\n",
    "| **sentiment-analysis** | 预测文本情感（正面/负面） | `nlptown/bert-base-multilingual-uncased-sentiment` |\n",
    "| **summarization** | 压缩文本，生成摘要 | `facebook/bart-large-cnn` |\n",
    "| **text-generation** | 给定开头，自动生成文本 | `gpt2` |\n",
    "| **translation** | 翻译文本（如英 -> 法） | `Helsinki-NLP/opus-mt-en-fr` |\n",
    "| **zero-shot-classification** | 无需训练，直接分类文本 | `facebook/bart-large-mnli` |\n",
    "\n"
   ]
  }
 ],
 "metadata": {
  "kernelspec": {
   "display_name": "openr1",
   "language": "python",
   "name": "python3"
  },
  "language_info": {
   "codemirror_mode": {
    "name": "ipython",
    "version": 3
   },
   "file_extension": ".py",
   "mimetype": "text/x-python",
   "name": "python",
   "nbconvert_exporter": "python",
   "pygments_lexer": "ipython3",
   "version": "3.11.11"
  }
 },
 "nbformat": 4,
 "nbformat_minor": 2
}
